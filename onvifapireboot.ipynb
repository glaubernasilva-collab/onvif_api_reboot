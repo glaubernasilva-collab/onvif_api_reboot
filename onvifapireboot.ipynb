{
 "cells": [
  {
   "cell_type": "code",
   "execution_count": 1,
   "metadata": {},
   "outputs": [],
   "source": [
    "import requests\n",
    "import xml.dom.minidom\n",
    "from datetime import datetime"
   ]
  },
  {
   "cell_type": "code",
   "execution_count": 2,
   "metadata": {},
   "outputs": [],
   "source": [
    "# ONVIF API endpoint. You can find the specific camera endpoint using network scanners like Nessus: https://www.tenable.com/plugins/nessus/103869\n",
    "url = \"http://192.168.0.14:8899/onvif/device_service\""
   ]
  },
  {
   "cell_type": "code",
   "execution_count": null,
   "metadata": {},
   "outputs": [],
   "source": [
    "# Headers\n",
    "headers = {\n",
    "    \"Content-Type\": \"application/soap+xml; charset=utf-8\"\n",
    "}\n",
    "\n",
    "# Recording request timestamp\n",
    "request_time = datetime.now().strftime(\"%Y-%m-%d %H:%M:%S\")\n",
    "print(f\"Request Time: {request_time}\")\n",
    "\n",
    "# Reboot request. You can find other request XMLs in the ONVIF API doc: https://www.onvif.org/wp-content/uploads/2016/12/ONVIF_WG-APG-Application_Programmers_Guide-1.pdf\n",
    "data = '''<?xml version=\"1.0\" encoding=\"utf-8\"?>\n",
    "<soapenv:Envelope xmlns:soapenv=\"http://www.w3.org/2003/05/soap-envelope\"\n",
    "xmlns:tds=\"http://www.onvif.org/ver10/device/wsdl\">\n",
    "  <soapenv:Body>\n",
    "    <tds:SystemReboot/>\n",
    "  </soapenv:Body>\n",
    "</soapenv:Envelope>'''\n",
    "response = requests.post(url, headers=headers, data=data)\n",
    "\n",
    "# Display status code and response body\n",
    "display(f\"Status Code: {response.status_code}\")\n",
    "\n",
    "# Format\n",
    "def format_xml(xml_string):\n",
    "    dom = xml.dom.minidom.parseString(xml_string)\n",
    "    pretty_xml_as_string = dom.toprettyxml()\n",
    "    return pretty_xml_as_string\n",
    "\n",
    "formatted_response = format_xml(response.text)\n",
    "print(formatted_response)"
   ]
  }
 ],
 "metadata": {
  "kernelspec": {
   "display_name": "Python 3",
   "language": "python",
   "name": "python3"
  },
  "language_info": {
   "codemirror_mode": {
    "name": "ipython",
    "version": 3
   },
   "file_extension": ".py",
   "mimetype": "text/x-python",
   "name": "python",
   "nbconvert_exporter": "python",
   "pygments_lexer": "ipython3",
   "version": "3.13.7"
  }
 },
 "nbformat": 4,
 "nbformat_minor": 2
}
